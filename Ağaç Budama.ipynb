{
 "cells": [
  {
   "cell_type": "code",
   "execution_count": 5,
   "id": "6893a33e",
   "metadata": {},
   "outputs": [
    {
     "name": "stdout",
     "output_type": "stream",
     "text": [
      "(alfa, beta): 4 15\n",
      "Sonuc:  4\n",
      "Budama sayısı:  2\n"
     ]
    }
   ],
   "source": [
    "#Ağaç Budama\n",
    "\n",
    "#ağaç yapısı\n",
    "agac=[[[5,1,2],[8,-8,-9],[9,4,5],[-3,4,3]]]\n",
    "kok=0\n",
    "budama=0\n",
    "\n",
    "def cocuklar(dal, derinlik,alfa,beta):\n",
    "    #her yerde kullanılabilmesi için değişkenleri global olarak tanımladık\n",
    "    global agac\n",
    "    global kok \n",
    "    global budama\n",
    "    i=0\n",
    "    for cocuk in dal:\n",
    "        if type(cocuk) is list:\n",
    "            (nalfa,nbeta)=cocuklar(cocuk,derinlik+1,alfa,beta)\n",
    "            if derinlik%2==1:\n",
    "                beta=nalfa if nalfa<beta else beta\n",
    "            else:\n",
    "                alfa=nbeta if nbeta>alfa else alfa\n",
    "                dal[i]=alfa if derinlik%2==0 else beta\n",
    "                i += 1\n",
    "                \n",
    "        else:\n",
    "            if derinlik%2==0 and alfa<cocuk:\n",
    "                alfa=cocuk\n",
    "            if derinlik%2==1 and beta>cocuk:\n",
    "                beta=cocuk\n",
    "            if alfa>=beta:\n",
    "                budama+=1\n",
    "                break\n",
    "    if derinlik ==kok:\n",
    "        agac =alfa if kok==0 else beta\n",
    "    return (alfa,beta)\n",
    "def alfabeta(in_agac=agac,baslangıc=kok,alt=-15,ust=15):\n",
    "    global agac\n",
    "    global budama\n",
    "    global kok \n",
    "    (alfa,beta)=cocuklar(agac,baslangıc,alt,ust)\n",
    "    if __name__==\"__main__\":\n",
    "        print (\"(alfa, beta):\",alfa,beta)\n",
    "        print(\"Sonuc: \",agac)\n",
    "        print(\"Budama sayısı: \",budama)\n",
    "    return (alfa,beta,budama,agac)\n",
    "if __name__==\"__main__\":\n",
    "    alfabeta(None)"
   ]
  },
  {
   "cell_type": "code",
   "execution_count": null,
   "id": "692bb3a8",
   "metadata": {},
   "outputs": [],
   "source": []
  }
 ],
 "metadata": {
  "kernelspec": {
   "display_name": "Python 3 (ipykernel)",
   "language": "python",
   "name": "python3"
  },
  "language_info": {
   "codemirror_mode": {
    "name": "ipython",
    "version": 3
   },
   "file_extension": ".py",
   "mimetype": "text/x-python",
   "name": "python",
   "nbconvert_exporter": "python",
   "pygments_lexer": "ipython3",
   "version": "3.10.9"
  }
 },
 "nbformat": 4,
 "nbformat_minor": 5
}
