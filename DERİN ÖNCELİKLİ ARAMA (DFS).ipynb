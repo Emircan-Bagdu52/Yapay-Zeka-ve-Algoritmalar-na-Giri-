{
 "cells": [
  {
   "cell_type": "code",
   "execution_count": 5,
   "id": "2788d19f",
   "metadata": {},
   "outputs": [
    {
     "name": "stdout",
     "output_type": "stream",
     "text": [
      "A\n",
      "B\n",
      "D\n",
      "E\n",
      "C\n",
      "F\n"
     ]
    }
   ],
   "source": [
    "#DERİN ÖNCELİKLİ ARAMA (DFS)\n",
    "grafik={\n",
    "    'A':['B','C'],\n",
    "    'B':['D','E'],\n",
    "    'C':['F'],\n",
    "    'D':[],\n",
    "    'E':[],\n",
    "    'F':[],}\n",
    "\n",
    "ziyaret=set()\n",
    "\n",
    "def dfs (ziyaret,grafik,dügüm):\n",
    "    if dügüm not in ziyaret:#düğümün içinde ziyaret edilenler yoksa düğümü yazdırıyor.\n",
    "        print(dügüm)\n",
    "        ziyaret.add(dügüm)     # düğümlerdekileri ziyaret edilenlere ekliyor.   \n",
    "        for komsu in grafik[dügüm]: # komsunun dügümlerini for döngüsü ile ziyaret etme\n",
    "            dfs(ziyaret,grafik,komsu)\n",
    "dfs (ziyaret,grafik,'A')"
   ]
  },
  {
   "cell_type": "code",
   "execution_count": null,
   "id": "aa0dfb5b",
   "metadata": {},
   "outputs": [],
   "source": []
  }
 ],
 "metadata": {
  "kernelspec": {
   "display_name": "Python 3 (ipykernel)",
   "language": "python",
   "name": "python3"
  },
  "language_info": {
   "codemirror_mode": {
    "name": "ipython",
    "version": 3
   },
   "file_extension": ".py",
   "mimetype": "text/x-python",
   "name": "python",
   "nbconvert_exporter": "python",
   "pygments_lexer": "ipython3",
   "version": "3.10.9"
  }
 },
 "nbformat": 4,
 "nbformat_minor": 5
}
