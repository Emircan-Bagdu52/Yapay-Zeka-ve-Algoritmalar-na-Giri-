{
 "cells": [
  {
   "cell_type": "code",
   "execution_count": 7,
   "id": "689e6f94",
   "metadata": {},
   "outputs": [
    {
     "name": "stdout",
     "output_type": "stream",
     "text": [
      "A B C D E F "
     ]
    }
   ],
   "source": [
    "#BFS YAYILIM ÖNCELİKLİ ARAMA\n",
    "grafik={\n",
    "    'A':['B','C'],\n",
    "    'B':['D','E'],\n",
    "    'C':['F'],\n",
    "    'D':[],\n",
    "    'E':[],\n",
    "    'F':[],\n",
    "    }\n",
    "ziyaret=[]  #ziyaret edilen verileri tutan liste\n",
    "yıgın=[] #sıralamak için yığım listesi\n",
    "    \n",
    "def bfs (ziyaret,grafik,dügüm):\n",
    "    ziyaret.append(dügüm)\n",
    "    yıgın.append(dügüm)\n",
    "    \n",
    "    while yıgın:\n",
    "        s=yıgın.pop(0)\n",
    "        print(s,end=\" \")\n",
    "        \n",
    "        for komsu in grafik[s]:\n",
    "            if komsu not in ziyaret:\n",
    "                yıgın.append(komsu)\n",
    "bfs (ziyaret,grafik,'A')"
   ]
  },
  {
   "cell_type": "code",
   "execution_count": null,
   "id": "3ca171c5",
   "metadata": {},
   "outputs": [],
   "source": []
  }
 ],
 "metadata": {
  "kernelspec": {
   "display_name": "Python 3 (ipykernel)",
   "language": "python",
   "name": "python3"
  },
  "language_info": {
   "codemirror_mode": {
    "name": "ipython",
    "version": 3
   },
   "file_extension": ".py",
   "mimetype": "text/x-python",
   "name": "python",
   "nbconvert_exporter": "python",
   "pygments_lexer": "ipython3",
   "version": "3.10.9"
  }
 },
 "nbformat": 4,
 "nbformat_minor": 5
}
